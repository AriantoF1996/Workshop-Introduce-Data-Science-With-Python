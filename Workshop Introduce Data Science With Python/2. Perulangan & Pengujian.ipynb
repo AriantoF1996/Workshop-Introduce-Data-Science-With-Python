{
 "cells": [
  {
   "cell_type": "markdown",
   "metadata": {},
   "source": [
    "# While Loop"
   ]
  },
  {
   "cell_type": "code",
   "execution_count": null,
   "metadata": {},
   "outputs": [],
   "source": [
    "error = 50.0\n",
    "while error > 1 :\n",
    "    error = error / 4\n",
    "    print(error)"
   ]
  },
  {
   "cell_type": "markdown",
   "metadata": {},
   "source": [
    "# For Loop"
   ]
  },
  {
   "cell_type": "code",
   "execution_count": null,
   "metadata": {},
   "outputs": [],
   "source": [
    "for a in range (10):\n",
    "    print(a)"
   ]
  },
  {
   "cell_type": "code",
   "execution_count": null,
   "metadata": {},
   "outputs": [],
   "source": [
    "for a in range (0,10):\n",
    "    print(a)"
   ]
  },
  {
   "cell_type": "code",
   "execution_count": null,
   "metadata": {},
   "outputs": [],
   "source": [
    "tinggi = [1.73, 1.68, 1.71, 1.89]\n",
    "print(tinggi)"
   ]
  },
  {
   "cell_type": "code",
   "execution_count": null,
   "metadata": {},
   "outputs": [],
   "source": [
    "tinggi = [1.73, 1.68, 1.71, 1.89]\n",
    "print(tinggi[0])\n",
    "print(tinggi[1])\n",
    "print(tinggi[2])\n",
    "print(tinggi[3])"
   ]
  },
  {
   "cell_type": "code",
   "execution_count": null,
   "metadata": {},
   "outputs": [],
   "source": [
    "tinggi = [1.73, 1.68, 1.71, 1.89]\n",
    "for a in tinggi:\n",
    "    print(a)"
   ]
  },
  {
   "cell_type": "code",
   "execution_count": null,
   "metadata": {},
   "outputs": [],
   "source": [
    "for index, a in enumerate(tinggi):\n",
    "    print(\"Index \" + str(index) + \": \" + str(a))"
   ]
  },
  {
   "cell_type": "markdown",
   "metadata": {},
   "source": [
    "## if, elif, else (conditional statement)"
   ]
  },
  {
   "cell_type": "code",
   "execution_count": null,
   "metadata": {},
   "outputs": [],
   "source": [
    "z = 4\n",
    "if z % 2 == 0 :\n",
    "    print(\"z adalah genap\")"
   ]
  },
  {
   "cell_type": "code",
   "execution_count": null,
   "metadata": {
    "collapsed": true
   },
   "outputs": [],
   "source": [
    "z = 5 \n",
    "if z % 2 == 0:\n",
    "    print(\"Mengecek \" + str(z))\n",
    "    print(\"z adalah genap\")"
   ]
  },
  {
   "cell_type": "code",
   "execution_count": null,
   "metadata": {},
   "outputs": [],
   "source": [
    "z = 5\n",
    "if z % 2 == 0 :\n",
    "    print(\"z adalah genap\")\n",
    "else :\n",
    "    print(\"z adalah ganjil\")"
   ]
  },
  {
   "cell_type": "code",
   "execution_count": null,
   "metadata": {},
   "outputs": [],
   "source": [
    "z = 3\n",
    "if z % 2 == 0:\n",
    "    print(\"z habis dibagi 2\")\n",
    "elif z % 3 == 0:\n",
    "    print(\"z habis dibagi 3\")\n",
    "else :\n",
    "    print(\"z tidak habis dibagi 2 maupun 3\")"
   ]
  },
  {
   "cell_type": "markdown",
   "metadata": {},
   "source": [
    "#                                                                     "
   ]
  },
  {
   "cell_type": "markdown",
   "metadata": {},
   "source": [
    "Latihan !\n",
    "\n",
    "    1. Tampilkan Semua Bilangan Ganjil Dari Angka 1 - 20 !\n",
    "    2. Tampilkan Semua Bilangan Genap Dari Angka 1 - 20 Yang Habis Dibagi 4 !\n",
    "    3. Tampilkan Semua Bilangan Ganjil Dari Angka 1 - n (n Merupakan Inputan User) Yang Habis Dibagi 3 dan 5 !\n",
    "\n",
    "Jawab !"
   ]
  },
  {
   "cell_type": "code",
   "execution_count": null,
   "metadata": {
    "collapsed": true
   },
   "outputs": [],
   "source": [
    "#Jawab No. 1 Disini\n",
    "\n"
   ]
  },
  {
   "cell_type": "code",
   "execution_count": null,
   "metadata": {},
   "outputs": [],
   "source": [
    "#Jawab No. 2 Disini\n",
    "\n"
   ]
  },
  {
   "cell_type": "code",
   "execution_count": null,
   "metadata": {},
   "outputs": [],
   "source": [
    "#Jawab No.3 Disini\n",
    "\n"
   ]
  },
  {
   "cell_type": "code",
   "execution_count": null,
   "metadata": {
    "collapsed": true
   },
   "outputs": [],
   "source": []
  }
 ],
 "metadata": {
  "kernelspec": {
   "display_name": "Python 3",
   "language": "python",
   "name": "python3"
  },
  "language_info": {
   "codemirror_mode": {
    "name": "ipython",
    "version": 3
   },
   "file_extension": ".py",
   "mimetype": "text/x-python",
   "name": "python",
   "nbconvert_exporter": "python",
   "pygments_lexer": "ipython3",
   "version": "3.6.1"
  }
 },
 "nbformat": 4,
 "nbformat_minor": 2
}
